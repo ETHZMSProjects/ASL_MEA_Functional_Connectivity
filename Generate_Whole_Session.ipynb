{
 "cells": [
  {
   "cell_type": "code",
   "execution_count": 1,
   "metadata": {},
   "outputs": [],
   "source": [
    "import numpy as np\n",
    "import matplotlib.pyplot as plt\n",
    "import scipy.io as sio\n",
    "import os\n",
    "import json\n",
    "from tqdm import tqdm\n",
    "from scipy.signal import correlate, butter, filtfilt\n",
    "from statsmodels.tsa.stattools import grangercausalitytests\n",
    "from joblib import Parallel, delayed\n",
    "from itertools import product\n",
    "from pathlib import Path\n",
    "import warnings\n",
    "from extract_channels import *"
   ]
  },
  {
   "cell_type": "code",
   "execution_count": null,
   "metadata": {},
   "outputs": [],
   "source": [
    "# Specify the directory containing the tuningTasks files, and \n",
    "# the directory to save granger causality results.\n",
    "data_dir = '/path/to/data/'\n",
    "gc_session_results_dir = data_dir + 'granger_whole_session/'\n",
    "results_path = Path(gc_session_results_dir)\n",
    "results_path.mkdir(parents=True, exist_ok=True)\n",
    "fiftyWordDat = sio.loadmat(data_dir+'t12.2022.05.03_fiftyWordSet.mat')\n",
    "sentenceData = sio.loadmat(data_dir+'t12.2022.04.28_sentences.mat')"
   ]
  },
  {
   "cell_type": "code",
   "execution_count": 3,
   "metadata": {},
   "outputs": [],
   "source": [
    "def get_all_pval(granger_causality_result):\n",
    "    pval_list = []\n",
    "    for lag in range(1,len(granger_causality_result)+1):\n",
    "        pval = granger_causality_result[lag][0]['ssr_ftest'][1]\n",
    "        pval_list.append(pval)\n",
    "    return pval_list"
   ]
  },
  {
   "cell_type": "code",
   "execution_count": 5,
   "metadata": {},
   "outputs": [],
   "source": [
    "def wholefile_gc_tests(data, causal_chans, caused_chans, num_lags, n_jobs=-16):\n",
    "    spikePow = data['spikePow']\n",
    "    caused = extract_channel_data(spikePow, caused_chans)\n",
    "    causal = extract_channel_data(spikePow, causal_chans)\n",
    "    cue_res = np.zeros((caused.shape[1], causal.shape[1], num_lags))\n",
    "    \n",
    "    def compute_gc(chan0, chan1):\n",
    "        cmp = np.stack([caused[:, chan0], causal[:, chan1]], axis=1)\n",
    "        with warnings.catch_warnings():\n",
    "            warnings.filterwarnings(\"ignore\", category=FutureWarning)  # Suppress UserWarnings\n",
    "            gc_res = grangercausalitytests(cmp, maxlag=num_lags, verbose=False)\n",
    "        return chan0, chan1, get_all_pval(gc_res)\n",
    "    \n",
    "    results = Parallel(n_jobs=n_jobs)(\n",
    "        delayed(compute_gc)(chan0, chan1)\n",
    "        for chan0, chan1 in tqdm(product(range(caused.shape[1]), range(causal.shape[1])), total=caused.shape[1] * causal.shape[1])\n",
    "    )\n",
    "    \n",
    "    for chan0, chan1, result in results:\n",
    "        cue_res[chan0, chan1] = result\n",
    "    \n",
    "    return cue_res\n",
    "    "
   ]
  },
  {
   "cell_type": "code",
   "execution_count": null,
   "metadata": {},
   "outputs": [],
   "source": [
    "def save_wholefile_results(results_np, save_dir, results_filename):\n",
    "    npy_path = os.path.join(save_dir, results_filename)\n",
    "    np.save(npy_path, results_np)"
   ]
  },
  {
   "cell_type": "code",
   "execution_count": null,
   "metadata": {},
   "outputs": [
    {
     "name": "stderr",
     "output_type": "stream",
     "text": [
      "100%|██████████| 4096/4096 [14:49<00:00,  4.61it/s]\n",
      "100%|██████████| 4096/4096 [17:00<00:00,  4.01it/s]\n",
      "100%|██████████| 4096/4096 [16:55<00:00,  4.03it/s]\n",
      "100%|██████████| 4096/4096 [16:42<00:00,  4.09it/s]\n",
      "100%|██████████| 4096/4096 [17:06<00:00,  3.99it/s] \n",
      "100%|██████████| 4096/4096 [17:00<00:00,  4.01it/s]\n",
      "100%|██████████| 4096/4096 [16:58<00:00,  4.02it/s]\n",
      "100%|██████████| 4096/4096 [16:51<00:00,  4.05it/s]\n",
      "100%|██████████| 4096/4096 [12:28<00:00,  5.47it/s]\n",
      "100%|██████████| 4096/4096 [12:01<00:00,  5.68it/s]\n",
      "100%|██████████| 4096/4096 [12:29<00:00,  5.47it/s]\n",
      "100%|██████████| 4096/4096 [12:26<00:00,  5.49it/s]\n",
      "100%|██████████| 4096/4096 [12:35<00:00,  5.42it/s]\n",
      "100%|██████████| 4096/4096 [12:36<00:00,  5.42it/s]\n",
      "100%|██████████| 4096/4096 [12:46<00:00,  5.35it/s] \n",
      "100%|██████████| 4096/4096 [12:45<00:00,  5.35it/s]\n"
     ]
    }
   ],
   "source": [
    "# Sentence-Level Granger Causality Tests\n",
    "sent_sup44_gc_sup6v_results = wholefile_gc_tests(sentenceData, area_44_superior, area_6v_superior, num_lags=8)\n",
    "save_wholefile_results(sent_sup44_gc_sup6v_results, gc_session_results_dir, results_filename='sent_sup44_gc_sup6v_results.npy')\n",
    "\n",
    "sent_sup44_gc_inf6v_results = wholefile_gc_tests(sentenceData, area_44_superior, area_6v_inferior, num_lags=8)\n",
    "save_wholefile_results(sent_sup44_gc_inf6v_results, gc_session_results_dir, results_filename='sent_sup44_gc_inf6v_results.npy')\n",
    "\n",
    "sent_inf44_gc_sup6v_results = wholefile_gc_tests(sentenceData, area_44_inferior, area_6v_superior, num_lags=8)\n",
    "save_wholefile_results(sent_inf44_gc_sup6v_results, gc_session_results_dir, results_filename='sent_inf44_gc_sup6v_results.npy')\n",
    "\n",
    "sent_inf44_gc_inf6v_results = wholefile_gc_tests(sentenceData, area_44_inferior, area_6v_inferior, num_lags=8)\n",
    "save_wholefile_results(sent_inf44_gc_inf6v_results, gc_session_results_dir, results_filename='sent_inf44_gc_inf6v_results.npy')\n",
    "\n",
    "sent_sup6v_gc_sup44_results = wholefile_gc_tests(sentenceData, area_6v_superior, area_44_superior, num_lags=8)\n",
    "save_wholefile_results(sent_sup6v_gc_sup44_results, gc_session_results_dir, results_filename='sent_sup6v_gc_sup44_results.npy')\n",
    "\n",
    "sent_sup6v_gc_inf44_results = wholefile_gc_tests(sentenceData, area_6v_superior, area_44_inferior, num_lags=8)\n",
    "save_wholefile_results(sent_sup6v_gc_inf44_results, gc_session_results_dir, results_filename='sent_sup6v_gc_inf44_results.npy')\n",
    "\n",
    "sent_inf6v_gc_sup44_results = wholefile_gc_tests(sentenceData, area_6v_inferior, area_44_superior, num_lags=8)\n",
    "save_wholefile_results(sent_inf6v_gc_sup44_results, gc_session_results_dir, results_filename='sent_inf6v_gc_sup44_results.npy')\n",
    "\n",
    "sent_inf6v_gc_inf44_results = wholefile_gc_tests(sentenceData, area_6v_inferior, area_44_inferior, num_lags=8)\n",
    "save_wholefile_results(sent_inf6v_gc_inf44_results, gc_session_results_dir, results_filename='sent_inf6v_gc_inf44_results.npy')\n",
    "\n",
    "\n",
    "# Word-Level Granger Causality Tests\n",
    "word_sup44_gc_sup6v_results = wholefile_gc_tests(fiftyWordDat, area_44_superior, area_6v_superior, num_lags=8)\n",
    "save_wholefile_results(word_sup44_gc_sup6v_results, gc_session_results_dir, results_filename='word_sup44_gc_sup6v_results.npy')\n",
    "\n",
    "word_sup44_gc_inf6v_results = wholefile_gc_tests(fiftyWordDat, area_44_superior, area_6v_inferior, num_lags=8)\n",
    "save_wholefile_results(word_sup44_gc_inf6v_results, gc_session_results_dir, results_filename='word_sup44_gc_inf6v_results.npy')\n",
    "\n",
    "word_inf44_gc_sup6v_results = wholefile_gc_tests(fiftyWordDat, area_44_inferior, area_6v_superior, num_lags=8)\n",
    "save_wholefile_results(word_inf44_gc_sup6v_results, gc_session_results_dir, results_filename='word_inf44_gc_sup6v_results.npy')\n",
    "\n",
    "word_inf44_gc_inf6v_results = wholefile_gc_tests(fiftyWordDat, area_44_inferior, area_6v_inferior, num_lags=8)\n",
    "save_wholefile_results(word_inf44_gc_inf6v_results, gc_session_results_dir, results_filename='word_inf44_gc_inf6v_results.npy')\n",
    "\n",
    "word_sup6v_gc_sup44_results = wholefile_gc_tests(fiftyWordDat, area_6v_superior, area_44_superior, num_lags=8)\n",
    "save_wholefile_results(word_sup6v_gc_sup44_results, gc_session_results_dir, results_filename='word_sup6v_gc_sup44_results.npy')\n",
    "\n",
    "word_sup6v_gc_inf44_results = wholefile_gc_tests(fiftyWordDat, area_6v_superior, area_44_inferior, num_lags=8)\n",
    "save_wholefile_results(word_sup6v_gc_inf44_results, gc_session_results_dir, results_filename='word_sup6v_gc_inf44_results.npy')\n",
    "\n",
    "word_inf6v_gc_sup44_results = wholefile_gc_tests(fiftyWordDat, area_6v_inferior, area_44_superior, num_lags=8)\n",
    "save_wholefile_results(word_inf6v_gc_sup44_results, gc_session_results_dir, results_filename='word_inf6v_gc_sup44_results.npy')\n",
    "\n",
    "word_inf6v_gc_inf44_results = wholefile_gc_tests(fiftyWordDat, area_6v_inferior, area_44_inferior, num_lags=8)\n",
    "save_wholefile_results(word_inf6v_gc_inf44_results, gc_session_results_dir, results_filename='word_inf6v_gc_inf44_results.npy')\n"
   ]
  }
 ],
 "metadata": {
  "kernelspec": {
   "display_name": "base",
   "language": "python",
   "name": "python3"
  },
  "language_info": {
   "codemirror_mode": {
    "name": "ipython",
    "version": 3
   },
   "file_extension": ".py",
   "mimetype": "text/x-python",
   "name": "python",
   "nbconvert_exporter": "python",
   "pygments_lexer": "ipython3",
   "version": "3.12.2"
  }
 },
 "nbformat": 4,
 "nbformat_minor": 2
}
